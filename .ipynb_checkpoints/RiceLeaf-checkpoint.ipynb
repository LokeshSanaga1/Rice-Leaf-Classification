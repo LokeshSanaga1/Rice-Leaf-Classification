{
 "cells": [
  {
   "cell_type": "markdown",
   "id": "fe9b11d3-e541-482e-853c-db799a5647d3",
   "metadata": {},
   "source": [
    "## Business Case :"
   ]
  },
  {
   "cell_type": "markdown",
   "id": "70f6fcfd-ce1a-4f91-a475-d0160848f02c",
   "metadata": {},
   "source": [
    "-  Rice is by far the most important food crop for people in low- and lower-middle-income countries. Although rich and poor people alike eat rice in low-income countries, the poorest people consume relatively little wheat and are therefore deeply affected by the cost and availability of rice.\n",
    "-  Rice is the staple food for over 50% of the world's population, and its production is crucial for food security\n",
    "- In many Asian countries, rice is the fundamental and generally irreplaceable staple, especially of the poor. For the extreme poor in Asia, who live on less than $1.25 a day, rice accounts for nearly half of their food expenditures and a fifth of total household expenditures, on average.\n",
    "-  This group alone annually spends the equivalent of. $62 billion (purchasing power parity) on rice. \n",
    "- But diseases like Leaf Smut, Brown Spot, and Bacterial Leaf Blight cause up to 70% yield loss, leading to \\$5+ billion in annual losses.\n",
    "- Manual inspection is slow, error-prone, and not scalable, To mitigate this AI-powered solutions are essential for real-time, accurate disease detection.\n",
    "- The global rice market is valued at \\$320+ billion, and AI in agriculture is projected to grow from \\$1.1B (2020) to \\$4B (2026), highlighting massive business potential.\n",
    "- Deep learning models (ResNet50, EfficientNet) can automate disease identification, optimize pesticide usage, and increase crop yield.\n",
    "- AI-based solutions can be deployed via mobile apps, edge AI for offline detection, and IoT-enabled smart farming to support farmers globally.\n",
    "- Business opportunities include SaaS subscriptions, AI-powered drones, and predictive analytics, driving sustainable, cost-effective precision agriculture.\n",
    "- Investing in AI-driven rice disease detection ensures food security, maximizes farm productivity, and revolutionizes modern farming.\n",
    "- So We're going to build the AI-driven rice disease detection model to ensure the mitigation of lose for fromeres by using the deployed model to devices for disease diagnosis."
   ]
  },
  {
   "cell_type": "markdown",
   "id": "36f4ba23-1e4e-46c5-937b-b77200e30c6d",
   "metadata": {},
   "source": [
    "## Domain Analysis :"
   ]
  },
  {
   "cell_type": "code",
   "execution_count": null,
   "id": "3f56a2e0-446d-4c0f-865e-935347d8f870",
   "metadata": {},
   "outputs": [],
   "source": []
  },
  {
   "cell_type": "code",
   "execution_count": null,
   "id": "24e91052-d1bf-445f-8e52-74c9a22ef7aa",
   "metadata": {},
   "outputs": [],
   "source": []
  },
  {
   "cell_type": "code",
   "execution_count": null,
   "id": "bfe7258c-4f9b-49a4-808f-5d8424c5b6c7",
   "metadata": {},
   "outputs": [],
   "source": []
  },
  {
   "cell_type": "code",
   "execution_count": null,
   "id": "e6cbc883-c3f4-4586-97ab-50004210e795",
   "metadata": {},
   "outputs": [],
   "source": []
  },
  {
   "cell_type": "code",
   "execution_count": null,
   "id": "66da7e31-f8b8-4047-bbce-c3adc3c29bbe",
   "metadata": {},
   "outputs": [],
   "source": []
  },
  {
   "cell_type": "code",
   "execution_count": null,
   "id": "bb57c8d3-f842-44fe-9344-a52f2b3326ed",
   "metadata": {},
   "outputs": [],
   "source": []
  },
  {
   "cell_type": "code",
   "execution_count": null,
   "id": "83a87ca7-cd45-455d-ae90-8ee6baf32791",
   "metadata": {},
   "outputs": [],
   "source": []
  },
  {
   "cell_type": "code",
   "execution_count": null,
   "id": "16da7929-c0cb-4811-919d-ff2ae41ea9d1",
   "metadata": {},
   "outputs": [],
   "source": []
  },
  {
   "cell_type": "code",
   "execution_count": null,
   "id": "2c00065f-2d27-45fa-b30d-73dff41ca082",
   "metadata": {},
   "outputs": [],
   "source": []
  },
  {
   "cell_type": "code",
   "execution_count": null,
   "id": "48dc30b5-f96a-430a-b55a-8e8a2eeee2d5",
   "metadata": {},
   "outputs": [],
   "source": []
  },
  {
   "cell_type": "code",
   "execution_count": null,
   "id": "5d1896a1-f4ef-4ff4-9037-51b5633e8f7f",
   "metadata": {},
   "outputs": [],
   "source": []
  },
  {
   "cell_type": "code",
   "execution_count": null,
   "id": "5a65c085-21e5-4329-ba30-165a70f7f2ff",
   "metadata": {},
   "outputs": [],
   "source": []
  },
  {
   "cell_type": "code",
   "execution_count": null,
   "id": "239cf33b-29bb-494c-b3d9-eb2e86b11f91",
   "metadata": {},
   "outputs": [],
   "source": []
  },
  {
   "cell_type": "code",
   "execution_count": null,
   "id": "ca688905-958f-45f7-b839-c07058b911cc",
   "metadata": {},
   "outputs": [],
   "source": []
  },
  {
   "cell_type": "code",
   "execution_count": null,
   "id": "4d891ece-3f07-4609-947f-d159d7201e95",
   "metadata": {},
   "outputs": [],
   "source": []
  },
  {
   "cell_type": "code",
   "execution_count": null,
   "id": "8332f017-e708-4943-a940-2d805ebc2012",
   "metadata": {},
   "outputs": [],
   "source": []
  },
  {
   "cell_type": "code",
   "execution_count": null,
   "id": "5f841717-11f7-43ab-92f8-55975997bb12",
   "metadata": {},
   "outputs": [],
   "source": []
  }
 ],
 "metadata": {
  "kernelspec": {
   "display_name": "Python 3 (ipykernel)",
   "language": "python",
   "name": "python3"
  },
  "language_info": {
   "codemirror_mode": {
    "name": "ipython",
    "version": 3
   },
   "file_extension": ".py",
   "mimetype": "text/x-python",
   "name": "python",
   "nbconvert_exporter": "python",
   "pygments_lexer": "ipython3",
   "version": "3.12.4"
  }
 },
 "nbformat": 4,
 "nbformat_minor": 5
}
